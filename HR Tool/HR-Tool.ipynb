{
 "cells": [
  {
   "cell_type": "code",
   "execution_count": 14,
   "metadata": {},
   "outputs": [],
   "source": [
    "import tkinter as tk\n",
    "from tkinter import filedialog, messagebox\n",
    "import pandas as pd\n",
    "import os\n",
    "\n",
    "def prompt_to_close_excel_files():\n",
    "    messagebox.showinfo(\"Close Excel Files\", \"Please ensure all Excel files are closed before proceeding.\")\n",
    "\n",
    "def upload_file(title, filetypes):\n",
    "    root = tk.Tk()\n",
    "    root.withdraw()  # Hide the Tkinter GUI\n",
    "    filepath = filedialog.askopenfilename(title=title, filetypes=filetypes)\n",
    "    root.destroy()\n",
    "    if filepath:\n",
    "        messagebox.showinfo(\"File Uploaded\", f\"{title} uploaded successfully.\")\n",
    "    else:\n",
    "        messagebox.showerror(\"File Upload Error\", \"No file was selected.\")\n",
    "    return filepath\n",
    "\n",
    "def process_files(file_a_path, file_b_path):\n",
    "    engine_a = 'xlrd' if file_a_path.endswith('.xls') else 'openpyxl'\n",
    "    df_a = pd.read_excel(file_a_path, sheet_name='Template-New Participants', header=3, engine=engine_a)\n",
    "\n",
    "    engine_b = 'xlrd' if file_b_path.endswith('.xls') else 'openpyxl'\n",
    "    df_b = pd.read_excel(file_b_path, engine=engine_b)\n",
    "    \n",
    "    # Adjust the column names based on the new information\n",
    "    filtered_df_b = df_b[df_b['PersNo'].isin(df_a['Personnel Number'])][['PersNo', 'BeforeTax_Rate', 'RothActualRt']]\n",
    "\n",
    "    output_path = os.path.join(os.path.dirname(file_b_path), \"filtered_data.xlsx\")\n",
    "    filtered_df_b.to_excel(output_path, index=False)\n",
    "    messagebox.showinfo(\"Process Complete\", f\"Filtered data has been saved to {output_path}\")\n",
    "    \n",
    "def main():\n",
    "    prompt_to_close_excel_files()\n",
    "    file_a_path = upload_file(\"Select the Personnel Numbers file (File A)\", [(\"Excel files\", \"*.xlsx\"), (\"Excel 97-2003 files\", \"*.xls\")])\n",
    "    if file_a_path:\n",
    "        file_b_path = upload_file(\"Select the Alight data file (File B)\", [(\"Excel files\", \"*.xlsx\"), (\"Excel 97-2003 files\", \"*.xls\")])\n",
    "        if file_b_path:\n",
    "            process_files(file_a_path, file_b_path)\n",
    "        else:\n",
    "            print(\"File B was not selected.\")\n",
    "    else:\n",
    "        print(\"File A was not selected.\")\n",
    "\n",
    "if __name__ == \"__main__\":\n",
    "    main()\n"
   ]
  },
  {
   "cell_type": "markdown",
   "metadata": {},
   "source": []
  }
 ],
 "metadata": {
  "kernelspec": {
   "display_name": "Python 3",
   "language": "python",
   "name": "python3"
  },
  "language_info": {
   "codemirror_mode": {
    "name": "ipython",
    "version": 3
   },
   "file_extension": ".py",
   "mimetype": "text/x-python",
   "name": "python",
   "nbconvert_exporter": "python",
   "pygments_lexer": "ipython3",
   "version": "3.12.1"
  }
 },
 "nbformat": 4,
 "nbformat_minor": 2
}

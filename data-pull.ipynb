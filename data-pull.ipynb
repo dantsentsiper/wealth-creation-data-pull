{
 "cells": [
  {
   "cell_type": "code",
   "execution_count": 17,
   "metadata": {},
   "outputs": [],
   "source": [
    "import tkinter as tk\n",
    "from tkinter import filedialog\n",
    "import pandas as pd\n",
    "import os\n",
    "\n",
    "def extract_eid(email):\n",
    "    return email.split('@')[0] if '@' in email else email\n",
    "\n",
    "def determine_event_type(name):\n",
    "    if \"ESPP\" in name:\n",
    "        return \"ESPP\"\n",
    "    elif any(keyword in name for keyword in [\"401\", \"401k\", \"401(k)\"]):\n",
    "        return \"401k\"\n",
    "    else:\n",
    "        return \"Other\"\n",
    "\n",
    "def extract_event_date(name):\n",
    "    return name.split()[0]\n",
    "\n",
    "def process_file(file_path):\n",
    "    file_name = os.path.basename(file_path)\n",
    "    df = pd.read_csv(file_path)\n",
    "\n",
    "    if 'Role' not in df.columns or 'Participant Id' not in df.columns:\n",
    "        print(f\"Required columns missing in file: {file_name}. Skipping this file.\")\n",
    "        return pd.DataFrame()\n",
    "\n",
    "    df = df[df['Participant Id'].notna() & (df['Role'] == 'Attendee')]\n",
    "    df = df[['Participant Id']]  # Select only the Participant Id column\n",
    "    df['Event Name'] = file_name\n",
    "    df['Event Type'] = determine_event_type(file_name)\n",
    "    df['Event Date'] = extract_event_date(file_name)\n",
    "    return df\n",
    "\n",
    "def update_attendee_tracker(filtered_data):\n",
    "    file_path = \"Attendee-Tracker.csv\"\n",
    "    if os.path.exists(file_path):\n",
    "        wc_db = pd.read_csv(file_path)\n",
    "    else:\n",
    "        wc_db = pd.DataFrame(columns=[\"Participant Id\", \"Event Name\", \"Event Type\", \"Event Date\"])\n",
    "    wc_db = pd.concat([wc_db, filtered_data], ignore_index=True)\n",
    "    wc_db.to_csv(file_path, index=False)\n",
    "    return wc_db"
   ]
  },
  {
   "cell_type": "code",
   "execution_count": 18,
   "metadata": {},
   "outputs": [],
   "source": [
    "def main():\n",
    "    root = tk.Tk()\n",
    "    root.withdraw()\n",
    "    file_paths = filedialog.askopenfilenames(\n",
    "        title=\"Select one or more Attendee Report files\",\n",
    "        filetypes=[(\"CSV files\", \"*.csv\")]\n",
    "    )\n",
    "    root.destroy()\n",
    "\n",
    "    if not file_paths:\n",
    "        print(\"No files were selected. Exiting the script.\")\n",
    "        return\n",
    "\n",
    "    all_filtered_attendees = pd.DataFrame()\n",
    "    for file_path in file_paths:\n",
    "        filtered_attendees = process_file(file_path)\n",
    "        all_filtered_attendees = pd.concat([all_filtered_attendees, filtered_attendees], ignore_index=True)\n",
    "\n",
    "    attendee_tracker = update_attendee_tracker(all_filtered_attendees)\n",
    "    attendee_tracker['EID Extract'] = attendee_tracker['Participant Id'].apply(extract_eid)\n",
    "    attendee_tracker['Event Count'] = attendee_tracker.groupby('EID Extract')['EID Extract'].transform('count')\n",
    "    attendee_tracker['Status'] = attendee_tracker['Event Count'].apply(lambda x: 'First Time' if x == 1 else 'Returning')\n",
    "    \n",
    "    first_event = attendee_tracker.groupby('EID Extract')['Event Date'].min().rename('First Event Attended')\n",
    "    last_event = attendee_tracker.groupby('EID Extract')['Event Date'].max().rename('Last Event Attended')\n",
    "    \n",
    "    attendee_tracker = attendee_tracker.merge(first_event, on='EID Extract').merge(last_event, on='EID Extract')\n",
    "    \n",
    "    print(\"Final Attendee Tracker:\")\n",
    "    print(attendee_tracker.head())  # Display the first few rows of the final DataFrame"
   ]
  },
  {
   "cell_type": "code",
   "execution_count": 19,
   "metadata": {},
   "outputs": [
    {
     "name": "stdout",
     "output_type": "stream",
     "text": [
      "Required columns missing in file: 2023.10.27 ExecSpeaker Dan Finn .csv. Skipping this file.\n",
      "Required columns missing in file: 2023.11.10 GoodPlansBadTimes.csv. Skipping this file.\n",
      "Required columns missing in file: 2023.12.08 ESPP 401 Attendees.csv. Skipping this file.\n",
      "Final Attendee Tracker:\n",
      "                  Participant Id                     Event Name Event Type  \\\n",
      "0       beth.mckim@accenture.com  2023.09.08 Retirement 101.csv      Other   \n",
      "1       beth.mckim@accenture.com  2023.09.08 Retirement 101.csv      Other   \n",
      "2  malikul.muhamad@accenture.com  2023.09.08 Retirement 101.csv      Other   \n",
      "3         e.garner@accenture.com  2023.09.08 Retirement 101.csv      Other   \n",
      "4   pamela.kittman@accenture.com  2023.09.08 Retirement 101.csv      Other   \n",
      "\n",
      "   Event Date      EID Extract  Event Count     Status First Event Attended  \\\n",
      "0  2023.09.08       beth.mckim            6  Returning           2023.09.08   \n",
      "1  2023.09.08       beth.mckim            6  Returning           2023.09.08   \n",
      "2  2023.09.08  malikul.muhamad            2  Returning           2023.09.08   \n",
      "3  2023.09.08         e.garner            2  Returning           2023.09.08   \n",
      "4  2023.09.08   pamela.kittman            9  Returning           2023.09.08   \n",
      "\n",
      "  Last Event Attended  \n",
      "0          2023.10.13  \n",
      "1          2023.10.13  \n",
      "2          2023.09.08  \n",
      "3          2023.09.08  \n",
      "4          2024.01.12  \n"
     ]
    }
   ],
   "source": [
    "if __name__ == \"__main__\":\n",
    "    main()\n"
   ]
  },
  {
   "cell_type": "code",
   "execution_count": 16,
   "metadata": {},
   "outputs": [
    {
     "name": "stdout",
     "output_type": "stream",
     "text": [
      "Number of rows remaining in the DataFrame: 0\n"
     ]
    }
   ],
   "source": [
    "# RESET DATABASE\n",
    "file_path = \"Attendee-Tracker.csv\"\n",
    "\n",
    "# Read the CSV file, including only the header\n",
    "df = pd.read_csv(file_path, nrows=0)\n",
    "\n",
    "# Write the empty DataFrame (with headers only) back to the CSV, overwriting the original file\n",
    "df.to_csv(file_path, index=False)\n",
    "\n",
    "# Print the number of rows remaining in the DataFrame\n",
    "print(f\"Number of rows remaining in the DataFrame: {len(df)}\")"
   ]
  }
 ],
 "metadata": {
  "kernelspec": {
   "display_name": "Python 3",
   "language": "python",
   "name": "python3"
  },
  "language_info": {
   "codemirror_mode": {
    "name": "ipython",
    "version": 3
   },
   "file_extension": ".py",
   "mimetype": "text/x-python",
   "name": "python",
   "nbconvert_exporter": "python",
   "pygments_lexer": "ipython3",
   "version": "3.12.1"
  }
 },
 "nbformat": 4,
 "nbformat_minor": 2
}
